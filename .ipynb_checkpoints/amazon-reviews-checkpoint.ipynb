{
 "cells": [
  {
   "cell_type": "code",
   "execution_count": 1,
   "metadata": {},
   "outputs": [],
   "source": [
    "import pandas as pd\n",
    "import numpy as np\n",
    "import seaborn as sns\n",
    "import json\n",
    "import warnings\n",
    "\n",
    "from sklearn.metrics import confusion_matrix\n",
    "from sklearn.model_selection import train_test_split\n",
    "\n",
    "#Supress warnings\n",
    "warnings.filterwarnings(\n",
    "    action=\"ignore\",\n",
    "    module=\"pandas\",\n",
    "    message=\"^internal gelsd\"\n",
    ")"
   ]
  },
  {
   "cell_type": "code",
   "execution_count": 2,
   "metadata": {},
   "outputs": [
    {
     "data": {
      "text/html": [
       "<div>\n",
       "<style scoped>\n",
       "    .dataframe tbody tr th:only-of-type {\n",
       "        vertical-align: middle;\n",
       "    }\n",
       "\n",
       "    .dataframe tbody tr th {\n",
       "        vertical-align: top;\n",
       "    }\n",
       "\n",
       "    .dataframe thead th {\n",
       "        text-align: right;\n",
       "    }\n",
       "</style>\n",
       "<table border=\"1\" class=\"dataframe\">\n",
       "  <thead>\n",
       "    <tr style=\"text-align: right;\">\n",
       "      <th></th>\n",
       "      <th>asin</th>\n",
       "      <th>helpful</th>\n",
       "      <th>overall</th>\n",
       "      <th>reviewText</th>\n",
       "      <th>reviewTime</th>\n",
       "      <th>reviewerID</th>\n",
       "      <th>reviewerName</th>\n",
       "      <th>summary</th>\n",
       "      <th>unixReviewTime</th>\n",
       "    </tr>\n",
       "  </thead>\n",
       "  <tbody>\n",
       "    <tr>\n",
       "      <th>0</th>\n",
       "      <td>1384719342</td>\n",
       "      <td>[0, 0]</td>\n",
       "      <td>5</td>\n",
       "      <td>Not much to write about here, but it does exac...</td>\n",
       "      <td>02 28, 2014</td>\n",
       "      <td>A2IBPI20UZIR0U</td>\n",
       "      <td>cassandra tu \"Yeah, well, that's just like, u...</td>\n",
       "      <td>good</td>\n",
       "      <td>1393545600</td>\n",
       "    </tr>\n",
       "    <tr>\n",
       "      <th>1</th>\n",
       "      <td>1384719342</td>\n",
       "      <td>[13, 14]</td>\n",
       "      <td>5</td>\n",
       "      <td>The product does exactly as it should and is q...</td>\n",
       "      <td>03 16, 2013</td>\n",
       "      <td>A14VAT5EAX3D9S</td>\n",
       "      <td>Jake</td>\n",
       "      <td>Jake</td>\n",
       "      <td>1363392000</td>\n",
       "    </tr>\n",
       "    <tr>\n",
       "      <th>2</th>\n",
       "      <td>1384719342</td>\n",
       "      <td>[1, 1]</td>\n",
       "      <td>5</td>\n",
       "      <td>The primary job of this device is to block the...</td>\n",
       "      <td>08 28, 2013</td>\n",
       "      <td>A195EZSQDW3E21</td>\n",
       "      <td>Rick Bennette \"Rick Bennette\"</td>\n",
       "      <td>It Does The Job Well</td>\n",
       "      <td>1377648000</td>\n",
       "    </tr>\n",
       "    <tr>\n",
       "      <th>3</th>\n",
       "      <td>1384719342</td>\n",
       "      <td>[0, 0]</td>\n",
       "      <td>5</td>\n",
       "      <td>Nice windscreen protects my MXL mic and preven...</td>\n",
       "      <td>02 14, 2014</td>\n",
       "      <td>A2C00NNG1ZQQG2</td>\n",
       "      <td>RustyBill \"Sunday Rocker\"</td>\n",
       "      <td>GOOD WINDSCREEN FOR THE MONEY</td>\n",
       "      <td>1392336000</td>\n",
       "    </tr>\n",
       "    <tr>\n",
       "      <th>4</th>\n",
       "      <td>1384719342</td>\n",
       "      <td>[0, 0]</td>\n",
       "      <td>5</td>\n",
       "      <td>This pop filter is great. It looks and perform...</td>\n",
       "      <td>02 21, 2014</td>\n",
       "      <td>A94QU4C90B1AX</td>\n",
       "      <td>SEAN MASLANKA</td>\n",
       "      <td>No more pops when I record my vocals.</td>\n",
       "      <td>1392940800</td>\n",
       "    </tr>\n",
       "  </tbody>\n",
       "</table>\n",
       "</div>"
      ],
      "text/plain": [
       "         asin   helpful  overall  \\\n",
       "0  1384719342    [0, 0]        5   \n",
       "1  1384719342  [13, 14]        5   \n",
       "2  1384719342    [1, 1]        5   \n",
       "3  1384719342    [0, 0]        5   \n",
       "4  1384719342    [0, 0]        5   \n",
       "\n",
       "                                          reviewText   reviewTime  \\\n",
       "0  Not much to write about here, but it does exac...  02 28, 2014   \n",
       "1  The product does exactly as it should and is q...  03 16, 2013   \n",
       "2  The primary job of this device is to block the...  08 28, 2013   \n",
       "3  Nice windscreen protects my MXL mic and preven...  02 14, 2014   \n",
       "4  This pop filter is great. It looks and perform...  02 21, 2014   \n",
       "\n",
       "       reviewerID                                      reviewerName  \\\n",
       "0  A2IBPI20UZIR0U  cassandra tu \"Yeah, well, that's just like, u...   \n",
       "1  A14VAT5EAX3D9S                                              Jake   \n",
       "2  A195EZSQDW3E21                     Rick Bennette \"Rick Bennette\"   \n",
       "3  A2C00NNG1ZQQG2                         RustyBill \"Sunday Rocker\"   \n",
       "4   A94QU4C90B1AX                                     SEAN MASLANKA   \n",
       "\n",
       "                                 summary  unixReviewTime  \n",
       "0                                   good      1393545600  \n",
       "1                                   Jake      1363392000  \n",
       "2                   It Does The Job Well      1377648000  \n",
       "3          GOOD WINDSCREEN FOR THE MONEY      1392336000  \n",
       "4  No more pops when I record my vocals.      1392940800  "
      ]
     },
     "execution_count": 2,
     "metadata": {},
     "output_type": "execute_result"
    }
   ],
   "source": [
    "#raw = pd.read_json('data/Musical_Instruments_5.json')\n",
    "\n",
    "#with open('data/Musical_Instruments_5.json') as f:\n",
    "#    data = f.readlines()\n",
    "\n",
    "#raw = pd.DataFrame(data)\n",
    "#raw = pd.read_json(data, lines = True)\n",
    "raw = pd.read_json('data/Musical_Instruments_5.json', lines = True)\n",
    "raw.head()"
   ]
  },
  {
   "cell_type": "code",
   "execution_count": 3,
   "metadata": {},
   "outputs": [
    {
     "name": "stderr",
     "output_type": "stream",
     "text": [
      "/usr/local/lib/python3.6/dist-packages/ipykernel_launcher.py:7: SettingWithCopyWarning: \n",
      "A value is trying to be set on a copy of a slice from a DataFrame.\n",
      "Try using .loc[row_indexer,col_indexer] = value instead\n",
      "\n",
      "See the caveats in the documentation: http://pandas.pydata.org/pandas-docs/stable/indexing.html#indexing-view-versus-copy\n",
      "  import sys\n",
      "/usr/local/lib/python3.6/dist-packages/ipykernel_launcher.py:14: SettingWithCopyWarning: \n",
      "A value is trying to be set on a copy of a slice from a DataFrame.\n",
      "Try using .loc[row_indexer,col_indexer] = value instead\n",
      "\n",
      "See the caveats in the documentation: http://pandas.pydata.org/pandas-docs/stable/indexing.html#indexing-view-versus-copy\n",
      "  \n",
      "/usr/local/lib/python3.6/dist-packages/ipykernel_launcher.py:15: SettingWithCopyWarning: \n",
      "A value is trying to be set on a copy of a slice from a DataFrame.\n",
      "Try using .loc[row_indexer,col_indexer] = value instead\n",
      "\n",
      "See the caveats in the documentation: http://pandas.pydata.org/pandas-docs/stable/indexing.html#indexing-view-versus-copy\n",
      "  from ipykernel import kernelapp as app\n",
      "/home/alexander/.local/lib/python3.6/site-packages/pandas/core/frame.py:3940: SettingWithCopyWarning: \n",
      "A value is trying to be set on a copy of a slice from a DataFrame\n",
      "\n",
      "See the caveats in the documentation: http://pandas.pydata.org/pandas-docs/stable/indexing.html#indexing-view-versus-copy\n",
      "  errors=errors)\n"
     ]
    }
   ],
   "source": [
    "#Lets create our features and outcome\n",
    "raw['positiveReview'] = np.where(raw['overall'] >= 4, True, False)\n",
    "#data['positiveReview'] = np.where(raw['overall'] >= 4, True, False)\n",
    "Y = np.where(raw['overall'] >= 4, True, False)\n",
    "\n",
    "data = raw[['helpful', 'reviewText', 'summary']]\n",
    "data['positiveReview'] = Y\n",
    "\n",
    "#create helpfulScore array\n",
    "helpfulScore = []\n",
    "for entry in data['helpful']:\n",
    "    helpfulScore.append(entry[0] - entry[1])\n",
    "    \n",
    "data['helpfulScore'] = helpfulScore\n",
    "data['isHelpful'] = np.where(data['helpfulScore'] >= 0, True, False)\n",
    "\n",
    "data.drop(columns = ['helpful', 'helpfulScore'], inplace = True)"
   ]
  },
  {
   "cell_type": "code",
   "execution_count": 4,
   "metadata": {},
   "outputs": [
    {
     "name": "stderr",
     "output_type": "stream",
     "text": [
      "/usr/local/lib/python3.6/dist-packages/ipykernel_launcher.py:5: SettingWithCopyWarning: \n",
      "A value is trying to be set on a copy of a slice from a DataFrame.\n",
      "Try using .loc[row_indexer,col_indexer] = value instead\n",
      "\n",
      "See the caveats in the documentation: http://pandas.pydata.org/pandas-docs/stable/indexing.html#indexing-view-versus-copy\n",
      "  \"\"\"\n"
     ]
    },
    {
     "data": {
      "text/html": [
       "<div>\n",
       "<style scoped>\n",
       "    .dataframe tbody tr th:only-of-type {\n",
       "        vertical-align: middle;\n",
       "    }\n",
       "\n",
       "    .dataframe tbody tr th {\n",
       "        vertical-align: top;\n",
       "    }\n",
       "\n",
       "    .dataframe thead th {\n",
       "        text-align: right;\n",
       "    }\n",
       "</style>\n",
       "<table border=\"1\" class=\"dataframe\">\n",
       "  <thead>\n",
       "    <tr style=\"text-align: right;\">\n",
       "      <th></th>\n",
       "      <th>reviewText</th>\n",
       "      <th>summary</th>\n",
       "      <th>positiveReview</th>\n",
       "      <th>isHelpful</th>\n",
       "      <th>good</th>\n",
       "      <th>great</th>\n",
       "      <th>awesome</th>\n",
       "      <th>bad</th>\n",
       "      <th>exactly</th>\n",
       "      <th>horrib</th>\n",
       "      <th>wonder</th>\n",
       "    </tr>\n",
       "  </thead>\n",
       "  <tbody>\n",
       "    <tr>\n",
       "      <th>0</th>\n",
       "      <td>Not much to write about here, but it does exac...</td>\n",
       "      <td>good</td>\n",
       "      <td>True</td>\n",
       "      <td>True</td>\n",
       "      <td>True</td>\n",
       "      <td>False</td>\n",
       "      <td>False</td>\n",
       "      <td>False</td>\n",
       "      <td>True</td>\n",
       "      <td>False</td>\n",
       "      <td>False</td>\n",
       "    </tr>\n",
       "    <tr>\n",
       "      <th>1</th>\n",
       "      <td>The product does exactly as it should and is q...</td>\n",
       "      <td>Jake</td>\n",
       "      <td>True</td>\n",
       "      <td>False</td>\n",
       "      <td>False</td>\n",
       "      <td>False</td>\n",
       "      <td>False</td>\n",
       "      <td>False</td>\n",
       "      <td>True</td>\n",
       "      <td>False</td>\n",
       "      <td>False</td>\n",
       "    </tr>\n",
       "    <tr>\n",
       "      <th>2</th>\n",
       "      <td>The primary job of this device is to block the...</td>\n",
       "      <td>It Does The Job Well</td>\n",
       "      <td>True</td>\n",
       "      <td>True</td>\n",
       "      <td>False</td>\n",
       "      <td>False</td>\n",
       "      <td>False</td>\n",
       "      <td>False</td>\n",
       "      <td>False</td>\n",
       "      <td>False</td>\n",
       "      <td>False</td>\n",
       "    </tr>\n",
       "    <tr>\n",
       "      <th>3</th>\n",
       "      <td>Nice windscreen protects my MXL mic and preven...</td>\n",
       "      <td>GOOD WINDSCREEN FOR THE MONEY</td>\n",
       "      <td>True</td>\n",
       "      <td>True</td>\n",
       "      <td>True</td>\n",
       "      <td>False</td>\n",
       "      <td>False</td>\n",
       "      <td>False</td>\n",
       "      <td>False</td>\n",
       "      <td>False</td>\n",
       "      <td>False</td>\n",
       "    </tr>\n",
       "    <tr>\n",
       "      <th>4</th>\n",
       "      <td>This pop filter is great. It looks and perform...</td>\n",
       "      <td>No more pops when I record my vocals.</td>\n",
       "      <td>True</td>\n",
       "      <td>True</td>\n",
       "      <td>False</td>\n",
       "      <td>True</td>\n",
       "      <td>False</td>\n",
       "      <td>False</td>\n",
       "      <td>False</td>\n",
       "      <td>False</td>\n",
       "      <td>False</td>\n",
       "    </tr>\n",
       "  </tbody>\n",
       "</table>\n",
       "</div>"
      ],
      "text/plain": [
       "                                          reviewText  \\\n",
       "0  Not much to write about here, but it does exac...   \n",
       "1  The product does exactly as it should and is q...   \n",
       "2  The primary job of this device is to block the...   \n",
       "3  Nice windscreen protects my MXL mic and preven...   \n",
       "4  This pop filter is great. It looks and perform...   \n",
       "\n",
       "                                 summary  positiveReview  isHelpful   good  \\\n",
       "0                                   good            True       True   True   \n",
       "1                                   Jake            True      False  False   \n",
       "2                   It Does The Job Well            True       True  False   \n",
       "3          GOOD WINDSCREEN FOR THE MONEY            True       True   True   \n",
       "4  No more pops when I record my vocals.            True       True  False   \n",
       "\n",
       "   great  awesome    bad  exactly  horrib  wonder  \n",
       "0  False    False  False     True   False   False  \n",
       "1  False    False  False     True   False   False  \n",
       "2  False    False  False    False   False   False  \n",
       "3  False    False  False    False   False   False  \n",
       "4   True    False  False    False   False   False  "
      ]
     },
     "execution_count": 4,
     "metadata": {},
     "output_type": "execute_result"
    }
   ],
   "source": [
    "#Keyword strings:\n",
    "keywords = ['good', 'great', 'awesome', 'bad', 'exactly', 'horrib', 'wonder']\n",
    "\n",
    "for key in keywords:\n",
    "    data[str(key)] = data.reviewText.str.contains(str(key), case = False) | data.summary.str.contains(str(key), case = False)\n",
    "\n",
    "data.head()"
   ]
  },
  {
   "cell_type": "code",
   "execution_count": 5,
   "metadata": {},
   "outputs": [
    {
     "data": {
      "text/html": [
       "<div>\n",
       "<style scoped>\n",
       "    .dataframe tbody tr th:only-of-type {\n",
       "        vertical-align: middle;\n",
       "    }\n",
       "\n",
       "    .dataframe tbody tr th {\n",
       "        vertical-align: top;\n",
       "    }\n",
       "\n",
       "    .dataframe thead th {\n",
       "        text-align: right;\n",
       "    }\n",
       "</style>\n",
       "<table border=\"1\" class=\"dataframe\">\n",
       "  <thead>\n",
       "    <tr style=\"text-align: right;\">\n",
       "      <th></th>\n",
       "      <th>reviewText</th>\n",
       "      <th>summary</th>\n",
       "      <th>positiveReview</th>\n",
       "      <th>isHelpful</th>\n",
       "      <th>good</th>\n",
       "      <th>great</th>\n",
       "      <th>awesome</th>\n",
       "      <th>bad</th>\n",
       "      <th>exactly</th>\n",
       "      <th>horrib</th>\n",
       "      <th>wonder</th>\n",
       "    </tr>\n",
       "  </thead>\n",
       "  <tbody>\n",
       "    <tr>\n",
       "      <th>0</th>\n",
       "      <td>Not much to write about here, but it does exac...</td>\n",
       "      <td>good</td>\n",
       "      <td>True</td>\n",
       "      <td>True</td>\n",
       "      <td>True</td>\n",
       "      <td>False</td>\n",
       "      <td>False</td>\n",
       "      <td>False</td>\n",
       "      <td>True</td>\n",
       "      <td>False</td>\n",
       "      <td>False</td>\n",
       "    </tr>\n",
       "    <tr>\n",
       "      <th>1</th>\n",
       "      <td>The product does exactly as it should and is q...</td>\n",
       "      <td>Jake</td>\n",
       "      <td>True</td>\n",
       "      <td>False</td>\n",
       "      <td>False</td>\n",
       "      <td>False</td>\n",
       "      <td>False</td>\n",
       "      <td>False</td>\n",
       "      <td>True</td>\n",
       "      <td>False</td>\n",
       "      <td>False</td>\n",
       "    </tr>\n",
       "    <tr>\n",
       "      <th>2</th>\n",
       "      <td>The primary job of this device is to block the...</td>\n",
       "      <td>It Does The Job Well</td>\n",
       "      <td>True</td>\n",
       "      <td>True</td>\n",
       "      <td>False</td>\n",
       "      <td>False</td>\n",
       "      <td>False</td>\n",
       "      <td>False</td>\n",
       "      <td>False</td>\n",
       "      <td>False</td>\n",
       "      <td>False</td>\n",
       "    </tr>\n",
       "    <tr>\n",
       "      <th>3</th>\n",
       "      <td>Nice windscreen protects my MXL mic and preven...</td>\n",
       "      <td>GOOD WINDSCREEN FOR THE MONEY</td>\n",
       "      <td>True</td>\n",
       "      <td>True</td>\n",
       "      <td>True</td>\n",
       "      <td>False</td>\n",
       "      <td>False</td>\n",
       "      <td>False</td>\n",
       "      <td>False</td>\n",
       "      <td>False</td>\n",
       "      <td>False</td>\n",
       "    </tr>\n",
       "    <tr>\n",
       "      <th>4</th>\n",
       "      <td>This pop filter is great. It looks and perform...</td>\n",
       "      <td>No more pops when I record my vocals.</td>\n",
       "      <td>True</td>\n",
       "      <td>True</td>\n",
       "      <td>False</td>\n",
       "      <td>True</td>\n",
       "      <td>False</td>\n",
       "      <td>False</td>\n",
       "      <td>False</td>\n",
       "      <td>False</td>\n",
       "      <td>False</td>\n",
       "    </tr>\n",
       "  </tbody>\n",
       "</table>\n",
       "</div>"
      ],
      "text/plain": [
       "                                          reviewText  \\\n",
       "0  Not much to write about here, but it does exac...   \n",
       "1  The product does exactly as it should and is q...   \n",
       "2  The primary job of this device is to block the...   \n",
       "3  Nice windscreen protects my MXL mic and preven...   \n",
       "4  This pop filter is great. It looks and perform...   \n",
       "\n",
       "                                 summary  positiveReview  isHelpful   good  \\\n",
       "0                                   good            True       True   True   \n",
       "1                                   Jake            True      False  False   \n",
       "2                   It Does The Job Well            True       True  False   \n",
       "3          GOOD WINDSCREEN FOR THE MONEY            True       True   True   \n",
       "4  No more pops when I record my vocals.            True       True  False   \n",
       "\n",
       "   great  awesome    bad  exactly  horrib  wonder  \n",
       "0  False    False  False     True   False   False  \n",
       "1  False    False  False     True   False   False  \n",
       "2  False    False  False    False   False   False  \n",
       "3  False    False  False    False   False   False  \n",
       "4   True    False  False    False   False   False  "
      ]
     },
     "execution_count": 5,
     "metadata": {},
     "output_type": "execute_result"
    }
   ],
   "source": [
    "#Set up Data, X, Y\n",
    "X = data[['isHelpful'] + keywords]\n",
    "#Y = data['positiveReview']\n",
    "\n",
    "data.head()"
   ]
  },
  {
   "cell_type": "code",
   "execution_count": 6,
   "metadata": {},
   "outputs": [
    {
     "data": {
      "text/plain": [
       "<matplotlib.axes._subplots.AxesSubplot at 0x7f3df55310b8>"
      ]
     },
     "execution_count": 6,
     "metadata": {},
     "output_type": "execute_result"
    },
    {
     "data": {
      "image/png": "[encoded data removed]",
      "text/plain": [
       "<Figure size 432x288 with 2 Axes>"
      ]
     },
     "metadata": {
      "needs_background": "light"
     },
     "output_type": "display_data"
    }
   ],
   "source": [
    "sns.heatmap(data.corr())"
   ]
  },
  {
   "cell_type": "markdown",
   "metadata": {},
   "source": [
    "__Correlation__\n",
    "\n",
    "What we want to see in our correlation matrix is a strong correlation (positive or negative) between each feature and the outcome and weak intercorrelation between the features. While we aren't seeing a ton of intercorrelation between the features, the correlation between the features and the outcome isn't particularly strong. Part of this may be in finding better keywords and features to implement. But let us continue with our modeling."
   ]
  },
  {
   "cell_type": "code",
   "execution_count": 7,
   "metadata": {},
   "outputs": [
    {
     "name": "stdout",
     "output_type": "stream",
     "text": [
      "1225 mislabeled points out of 10261.\n",
      "\n",
      "Confusion Matrix:\n",
      "[[  60 1179]\n",
      " [  46 8976]]\n"
     ]
    }
   ],
   "source": [
    "#Train naive bayes and validate\n",
    "from sklearn.naive_bayes import BernoulliNB\n",
    "\n",
    "bnb = BernoulliNB()\n",
    "bnb.fit(X, Y)\n",
    "\n",
    "Y_predicted = bnb.predict(X)\n",
    "\n",
    "print('{} mislabeled points out of {}.'. format((Y != Y_predicted).sum(), X.shape[0]))\n",
    "\n",
    "print('\\nConfusion Matrix:\\n{}'.format(confusion_matrix(Y, Y_predicted)))"
   ]
  },
  {
   "cell_type": "markdown",
   "metadata": {},
   "source": [
    "__Model Validation__\n",
    "\n",
    "The main problem we are facing with this dataset is the number of 'non-positive' reviews outnumber the number of 'positive' reviews nearly by a magnitude, so our model tends to mark more positive reviews as negative reviews, maintaining net accuracy.\n",
    "\n",
    "This type of issue is called \"class imbalance\". We can combat our class imbalance by deliberately oversampling the lesser reviews."
   ]
  },
  {
   "cell_type": "code",
   "execution_count": 8,
   "metadata": {},
   "outputs": [
    {
     "name": "stdout",
     "output_type": "stream",
     "text": [
      "9022\n",
      "1239\n"
     ]
    },
    {
     "data": {
      "text/html": [
       "<div>\n",
       "<style scoped>\n",
       "    .dataframe tbody tr th:only-of-type {\n",
       "        vertical-align: middle;\n",
       "    }\n",
       "\n",
       "    .dataframe tbody tr th {\n",
       "        vertical-align: top;\n",
       "    }\n",
       "\n",
       "    .dataframe thead th {\n",
       "        text-align: right;\n",
       "    }\n",
       "</style>\n",
       "<table border=\"1\" class=\"dataframe\">\n",
       "  <thead>\n",
       "    <tr style=\"text-align: right;\">\n",
       "      <th></th>\n",
       "      <th>reviewText</th>\n",
       "      <th>summary</th>\n",
       "      <th>positiveReview</th>\n",
       "      <th>isHelpful</th>\n",
       "      <th>good</th>\n",
       "      <th>great</th>\n",
       "      <th>awesome</th>\n",
       "      <th>bad</th>\n",
       "      <th>exactly</th>\n",
       "      <th>horrib</th>\n",
       "      <th>wonder</th>\n",
       "    </tr>\n",
       "  </thead>\n",
       "  <tbody>\n",
       "    <tr>\n",
       "      <th>0</th>\n",
       "      <td>This works, and I really like Evans. But I got...</td>\n",
       "      <td>Works, not great.</td>\n",
       "      <td>False</td>\n",
       "      <td>True</td>\n",
       "      <td>False</td>\n",
       "      <td>True</td>\n",
       "      <td>False</td>\n",
       "      <td>False</td>\n",
       "      <td>False</td>\n",
       "      <td>False</td>\n",
       "      <td>False</td>\n",
       "    </tr>\n",
       "    <tr>\n",
       "      <th>1</th>\n",
       "      <td>I've noticed that the two-button tremelo/vibra...</td>\n",
       "      <td>Replacement for original.</td>\n",
       "      <td>False</td>\n",
       "      <td>True</td>\n",
       "      <td>False</td>\n",
       "      <td>False</td>\n",
       "      <td>False</td>\n",
       "      <td>False</td>\n",
       "      <td>False</td>\n",
       "      <td>False</td>\n",
       "      <td>False</td>\n",
       "    </tr>\n",
       "    <tr>\n",
       "      <th>2</th>\n",
       "      <td>Installed these on my Schecter C-1 Hellraiser....</td>\n",
       "      <td>Another gimmick for guitars!</td>\n",
       "      <td>False</td>\n",
       "      <td>False</td>\n",
       "      <td>True</td>\n",
       "      <td>False</td>\n",
       "      <td>False</td>\n",
       "      <td>True</td>\n",
       "      <td>False</td>\n",
       "      <td>False</td>\n",
       "      <td>False</td>\n",
       "    </tr>\n",
       "    <tr>\n",
       "      <th>3</th>\n",
       "      <td>It's not bad. It would be better if I bought o...</td>\n",
       "      <td>It's decent</td>\n",
       "      <td>False</td>\n",
       "      <td>True</td>\n",
       "      <td>False</td>\n",
       "      <td>False</td>\n",
       "      <td>False</td>\n",
       "      <td>True</td>\n",
       "      <td>False</td>\n",
       "      <td>False</td>\n",
       "      <td>False</td>\n",
       "    </tr>\n",
       "    <tr>\n",
       "      <th>4</th>\n",
       "      <td>Warning the tuners have two bumps instead of o...</td>\n",
       "      <td>Great Beautiful Tuners!</td>\n",
       "      <td>True</td>\n",
       "      <td>True</td>\n",
       "      <td>False</td>\n",
       "      <td>True</td>\n",
       "      <td>False</td>\n",
       "      <td>True</td>\n",
       "      <td>False</td>\n",
       "      <td>False</td>\n",
       "      <td>False</td>\n",
       "    </tr>\n",
       "  </tbody>\n",
       "</table>\n",
       "</div>"
      ],
      "text/plain": [
       "                                          reviewText  \\\n",
       "0  This works, and I really like Evans. But I got...   \n",
       "1  I've noticed that the two-button tremelo/vibra...   \n",
       "2  Installed these on my Schecter C-1 Hellraiser....   \n",
       "3  It's not bad. It would be better if I bought o...   \n",
       "4  Warning the tuners have two bumps instead of o...   \n",
       "\n",
       "                        summary  positiveReview  isHelpful   good  great  \\\n",
       "0             Works, not great.           False       True  False   True   \n",
       "1     Replacement for original.           False       True  False  False   \n",
       "2  Another gimmick for guitars!           False      False   True  False   \n",
       "3                   It's decent           False       True  False  False   \n",
       "4       Great Beautiful Tuners!            True       True  False   True   \n",
       "\n",
       "   awesome    bad  exactly  horrib  wonder  \n",
       "0    False  False    False   False   False  \n",
       "1    False  False    False   False   False  \n",
       "2    False   True    False   False   False  \n",
       "3    False   True    False   False   False  \n",
       "4    False   True    False   False   False  "
      ]
     },
     "execution_count": 8,
     "metadata": {},
     "output_type": "execute_result"
    }
   ],
   "source": [
    "#Split into two groups\n",
    "positives = data[data['positiveReview'] == True]\n",
    "negatives = data[data['positiveReview'] == False]\n",
    "\n",
    "#Print lengths\n",
    "print(positives.shape[0]) #9022\n",
    "print(negatives.shape[0]) #1239\n",
    "\n",
    "#Sample largest class (n = size of smallest class)\n",
    "pos_samp = positives.sample(n = negatives.shape[0])\n",
    "\n",
    "#Create new balanced dataset\n",
    "data_balanced = pos_samp.append(negatives, ignore_index = True)\n",
    "\n",
    "#Scramble dataset observations.\n",
    "data_balanced = data_balanced.sample(frac = 1).reset_index(drop = True)\n",
    "\n",
    "data_balanced.head()"
   ]
  },
  {
   "cell_type": "code",
   "execution_count": 9,
   "metadata": {},
   "outputs": [],
   "source": [
    "#Create new balanced outcome and features.\n",
    "X_bal = data_balanced[['isHelpful'] + keywords]\n",
    "Y_bal = data_balanced['positiveReview']"
   ]
  },
  {
   "cell_type": "code",
   "execution_count": 10,
   "metadata": {},
   "outputs": [
    {
     "data": {
      "text/plain": [
       "<matplotlib.axes._subplots.AxesSubplot at 0x7f3df5677550>"
      ]
     },
     "execution_count": 10,
     "metadata": {},
     "output_type": "execute_result"
    },
    {
     "data": {
      "image/png": "[encoded data removed]",
      "text/plain": [
       "<Figure size 432x288 with 2 Axes>"
      ]
     },
     "metadata": {
      "needs_background": "light"
     },
     "output_type": "display_data"
    }
   ],
   "source": [
    "#Recheck features\n",
    "sns.heatmap(data_balanced.corr())"
   ]
  },
  {
   "cell_type": "markdown",
   "metadata": {},
   "source": [
    "__Finding our balance__\n",
    "\n",
    "As we can see by our correlation matrix, balancing our classes seems to have improved correlation between the outcome and our features. Both the class balancing and the 'sharpening' of our correlation matrix should improve the results."
   ]
  },
  {
   "cell_type": "code",
   "execution_count": 11,
   "metadata": {},
   "outputs": [
    {
     "name": "stdout",
     "output_type": "stream",
     "text": [
      "889 mislabeled points out of 2478.\n",
      "\n",
      "Confusion Matrix:\n",
      "[[ 502  737]\n",
      " [ 152 1087]]\n"
     ]
    }
   ],
   "source": [
    "#Initiate a new model\n",
    "bnb_bal = BernoulliNB()\n",
    "bnb_bal.fit(X_bal, Y_bal)\n",
    "\n",
    "Y_bal_predicted = bnb_bal.predict(X_bal)\n",
    "\n",
    "print('{} mislabeled points out of {}.'. format((Y_bal != Y_bal_predicted).sum(), X_bal.shape[0]))\n",
    "\n",
    "print('\\nConfusion Matrix:\\n{}'.format(confusion_matrix(Y_bal, Y_bal_predicted)))"
   ]
  },
  {
   "cell_type": "markdown",
   "metadata": {},
   "source": [
    "__Bernoulli: Balanced__\n",
    "\n",
    "As we can see by the confusion matrix, error types are much more balanced. Net accuracy has also been improved. With further keyword and feature selection, we may continue to improve our model.\n",
    "\n",
    "__On Overfitting__\n",
    "\n",
    "One last potential issue we want to check for is overfitting.\n",
    "\n",
    "Overfitting occurs when the model starts to account for random noise rather than the true underlying relationships in the data. We can check to see if overfitting is occuring by splitting the data into training and testing batches. We will then train our model on one of the batches and test the model on the other."
   ]
  },
  {
   "cell_type": "code",
   "execution_count": 12,
   "metadata": {},
   "outputs": [
    {
     "data": {
      "text/plain": [
       "0.6169354838709677"
      ]
     },
     "execution_count": 12,
     "metadata": {},
     "output_type": "execute_result"
    }
   ],
   "source": [
    "#Make a holdout group\n",
    "X_train, X_test, Y_train, Y_test = train_test_split(X_bal, Y_bal, test_size = 0.1)\n",
    "\n",
    "bnb_val = BernoulliNB()\n",
    "bnb.fit(X_train, Y_train)\n",
    "bnb.score(X_test, Y_test)"
   ]
  },
  {
   "cell_type": "markdown",
   "metadata": {},
   "source": [
    "Here we train the model on 50% of the data and test it on the other 50%. This implies that our model is not overfitting."
   ]
  },
  {
   "cell_type": "code",
   "execution_count": 13,
   "metadata": {},
   "outputs": [
    {
     "data": {
      "text/plain": [
       "array([0.57459677, 0.64112903, 0.63306452, 0.6391129 , 0.64777328])"
      ]
     },
     "execution_count": 13,
     "metadata": {},
     "output_type": "execute_result"
    }
   ],
   "source": [
    "from sklearn.model_selection import cross_val_score\n",
    "\n",
    "#Fresh, untrained model\n",
    "bnb_flds = BernoulliNB()\n",
    "\n",
    "cross_val_score(bnb_flds, X_bal, Y_bal, cv = 5)"
   ]
  },
  {
   "cell_type": "markdown",
   "metadata": {},
   "source": [
    "__Analysis__\n",
    "\n",
    "When we implemented the holdout group, we saw a significant drop in accuracy. This could imply that we are seeing some overfitting. We are seeing some variance within our cross validation scores which could also imply overfitting.\n",
    "\n",
    "Although the variance is not strong enough to be absolutely certain, as we aren't using a particularly complex model (we are using less than 10 features), I suspect more feature engineering would improve the accuracy."
   ]
  }
 ],
 "metadata": {
  "kernelspec": {
   "display_name": "Python 3",
   "language": "python",
   "name": "python3"
  },
  "language_info": {
   "codemirror_mode": {
    "name": "ipython",
    "version": 3
   },
   "file_extension": ".py",
   "mimetype": "text/x-python",
   "name": "python",
   "nbconvert_exporter": "python",
   "pygments_lexer": "ipython3",
   "version": "3.6.7"
  }
 },
 "nbformat": 4,
 "nbformat_minor": 2
}
