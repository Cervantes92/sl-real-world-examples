{
 "cells": [
  {
   "cell_type": "code",
   "execution_count": 23,
   "metadata": {},
   "outputs": [],
   "source": [
    "import pandas as pd\n",
    "import numpy as np\n",
    "import seaborn as sns\n",
    "import matplotlib.pyplot as plt\n",
    "\n",
    "from sklearn import linear_model, preprocessing\n",
    "from sklearn.model_selection import cross_val_score\n",
    "from sklearn.decomposition import PCA\n",
    "\n",
    "from IPython.display import display as dsp"
   ]
  },
  {
   "cell_type": "markdown",
   "metadata": {},
   "source": [
    "## Mebourne Housing Prices\n",
    "\n",
    "__The Data__\n",
    "\n",
    "This data represents houses sold in Melbourne, Australia between the dates off January 4th, 2016 to December 1st, 2018. We want to train a model to predict the housing prices given a set of features. We also want to understand what features have the greatest effect (ruling out ensemble models, which would result in a 'black box').\n",
    "\n",
    "__Ideas__\n",
    "\n",
    "The dataset included coordinates for each house sold, which could be an interesting clustering project, but since every house is already associated with a neighborhood (whch tend to be spacially contiguous) we will include the coordinates within our model."
   ]
  },
  {
   "cell_type": "code",
   "execution_count": 24,
   "metadata": {},
   "outputs": [
    {
     "data": {
      "text/html": [
       "<div>\n",
       "<style scoped>\n",
       "    .dataframe tbody tr th:only-of-type {\n",
       "        vertical-align: middle;\n",
       "    }\n",
       "\n",
       "    .dataframe tbody tr th {\n",
       "        vertical-align: top;\n",
       "    }\n",
       "\n",
       "    .dataframe thead th {\n",
       "        text-align: right;\n",
       "    }\n",
       "</style>\n",
       "<table border=\"1\" class=\"dataframe\">\n",
       "  <thead>\n",
       "    <tr style=\"text-align: right;\">\n",
       "      <th></th>\n",
       "      <th>index</th>\n",
       "      <th>Suburb</th>\n",
       "      <th>Address</th>\n",
       "      <th>Rooms</th>\n",
       "      <th>Type</th>\n",
       "      <th>Price</th>\n",
       "      <th>Method</th>\n",
       "      <th>SellerG</th>\n",
       "      <th>Date</th>\n",
       "      <th>Distance</th>\n",
       "      <th>...</th>\n",
       "      <th>Bathroom</th>\n",
       "      <th>Car</th>\n",
       "      <th>Landsize</th>\n",
       "      <th>BuildingArea</th>\n",
       "      <th>YearBuilt</th>\n",
       "      <th>CouncilArea</th>\n",
       "      <th>Lattitude</th>\n",
       "      <th>Longtitude</th>\n",
       "      <th>Regionname</th>\n",
       "      <th>Propertycount</th>\n",
       "    </tr>\n",
       "  </thead>\n",
       "  <tbody>\n",
       "    <tr>\n",
       "      <th>8882</th>\n",
       "      <td>34847</td>\n",
       "      <td>Wollert</td>\n",
       "      <td>27 Birchmore Rd</td>\n",
       "      <td>3</td>\n",
       "      <td>h</td>\n",
       "      <td>500000.0</td>\n",
       "      <td>PI</td>\n",
       "      <td>Ray</td>\n",
       "      <td>24/02/2018</td>\n",
       "      <td>25.5</td>\n",
       "      <td>...</td>\n",
       "      <td>2.0</td>\n",
       "      <td>2.0</td>\n",
       "      <td>383.0</td>\n",
       "      <td>118.0</td>\n",
       "      <td>2016.0</td>\n",
       "      <td>Whittlesea City Council</td>\n",
       "      <td>-37.61940</td>\n",
       "      <td>145.03951</td>\n",
       "      <td>Northern Metropolitan</td>\n",
       "      <td>2940.0</td>\n",
       "    </tr>\n",
       "    <tr>\n",
       "      <th>8883</th>\n",
       "      <td>34849</td>\n",
       "      <td>Wollert</td>\n",
       "      <td>35 Kingscote Wy</td>\n",
       "      <td>3</td>\n",
       "      <td>h</td>\n",
       "      <td>570000.0</td>\n",
       "      <td>SP</td>\n",
       "      <td>RW</td>\n",
       "      <td>24/02/2018</td>\n",
       "      <td>25.5</td>\n",
       "      <td>...</td>\n",
       "      <td>2.0</td>\n",
       "      <td>2.0</td>\n",
       "      <td>404.0</td>\n",
       "      <td>158.0</td>\n",
       "      <td>2012.0</td>\n",
       "      <td>Whittlesea City Council</td>\n",
       "      <td>-37.61031</td>\n",
       "      <td>145.03393</td>\n",
       "      <td>Northern Metropolitan</td>\n",
       "      <td>2940.0</td>\n",
       "    </tr>\n",
       "    <tr>\n",
       "      <th>8884</th>\n",
       "      <td>34853</td>\n",
       "      <td>Yarraville</td>\n",
       "      <td>29A Murray St</td>\n",
       "      <td>2</td>\n",
       "      <td>h</td>\n",
       "      <td>888000.0</td>\n",
       "      <td>SP</td>\n",
       "      <td>Sweeney</td>\n",
       "      <td>24/02/2018</td>\n",
       "      <td>6.3</td>\n",
       "      <td>...</td>\n",
       "      <td>2.0</td>\n",
       "      <td>1.0</td>\n",
       "      <td>98.0</td>\n",
       "      <td>104.0</td>\n",
       "      <td>2018.0</td>\n",
       "      <td>Maribyrnong City Council</td>\n",
       "      <td>-37.81551</td>\n",
       "      <td>144.88826</td>\n",
       "      <td>Western Metropolitan</td>\n",
       "      <td>6543.0</td>\n",
       "    </tr>\n",
       "    <tr>\n",
       "      <th>8885</th>\n",
       "      <td>34854</td>\n",
       "      <td>Yarraville</td>\n",
       "      <td>147A Severn St</td>\n",
       "      <td>2</td>\n",
       "      <td>t</td>\n",
       "      <td>705000.0</td>\n",
       "      <td>S</td>\n",
       "      <td>Jas</td>\n",
       "      <td>24/02/2018</td>\n",
       "      <td>6.3</td>\n",
       "      <td>...</td>\n",
       "      <td>1.0</td>\n",
       "      <td>2.0</td>\n",
       "      <td>220.0</td>\n",
       "      <td>120.0</td>\n",
       "      <td>2000.0</td>\n",
       "      <td>Maribyrnong City Council</td>\n",
       "      <td>-37.82286</td>\n",
       "      <td>144.87856</td>\n",
       "      <td>Western Metropolitan</td>\n",
       "      <td>6543.0</td>\n",
       "    </tr>\n",
       "    <tr>\n",
       "      <th>8886</th>\n",
       "      <td>34856</td>\n",
       "      <td>Yarraville</td>\n",
       "      <td>3 Tarrengower St</td>\n",
       "      <td>2</td>\n",
       "      <td>h</td>\n",
       "      <td>1020000.0</td>\n",
       "      <td>PI</td>\n",
       "      <td>RW</td>\n",
       "      <td>24/02/2018</td>\n",
       "      <td>6.3</td>\n",
       "      <td>...</td>\n",
       "      <td>1.0</td>\n",
       "      <td>0.0</td>\n",
       "      <td>250.0</td>\n",
       "      <td>103.0</td>\n",
       "      <td>1930.0</td>\n",
       "      <td>Maribyrnong City Council</td>\n",
       "      <td>-37.81810</td>\n",
       "      <td>144.89351</td>\n",
       "      <td>Western Metropolitan</td>\n",
       "      <td>6543.0</td>\n",
       "    </tr>\n",
       "  </tbody>\n",
       "</table>\n",
       "<p>5 rows × 22 columns</p>\n",
       "</div>"
      ],
      "text/plain": [
       "      index      Suburb           Address  Rooms Type      Price Method  \\\n",
       "8882  34847     Wollert   27 Birchmore Rd      3    h   500000.0     PI   \n",
       "8883  34849     Wollert   35 Kingscote Wy      3    h   570000.0     SP   \n",
       "8884  34853  Yarraville     29A Murray St      2    h   888000.0     SP   \n",
       "8885  34854  Yarraville    147A Severn St      2    t   705000.0      S   \n",
       "8886  34856  Yarraville  3 Tarrengower St      2    h  1020000.0     PI   \n",
       "\n",
       "      SellerG        Date  Distance  ...  Bathroom  Car  Landsize  \\\n",
       "8882      Ray  24/02/2018      25.5  ...       2.0  2.0     383.0   \n",
       "8883       RW  24/02/2018      25.5  ...       2.0  2.0     404.0   \n",
       "8884  Sweeney  24/02/2018       6.3  ...       2.0  1.0      98.0   \n",
       "8885      Jas  24/02/2018       6.3  ...       1.0  2.0     220.0   \n",
       "8886       RW  24/02/2018       6.3  ...       1.0  0.0     250.0   \n",
       "\n",
       "      BuildingArea  YearBuilt               CouncilArea  Lattitude Longtitude  \\\n",
       "8882         118.0     2016.0   Whittlesea City Council  -37.61940  145.03951   \n",
       "8883         158.0     2012.0   Whittlesea City Council  -37.61031  145.03393   \n",
       "8884         104.0     2018.0  Maribyrnong City Council  -37.81551  144.88826   \n",
       "8885         120.0     2000.0  Maribyrnong City Council  -37.82286  144.87856   \n",
       "8886         103.0     1930.0  Maribyrnong City Council  -37.81810  144.89351   \n",
       "\n",
       "                 Regionname  Propertycount  \n",
       "8882  Northern Metropolitan         2940.0  \n",
       "8883  Northern Metropolitan         2940.0  \n",
       "8884   Western Metropolitan         6543.0  \n",
       "8885   Western Metropolitan         6543.0  \n",
       "8886   Western Metropolitan         6543.0  \n",
       "\n",
       "[5 rows x 22 columns]"
      ]
     },
     "metadata": {},
     "output_type": "display_data"
    },
    {
     "data": {
      "text/html": [
       "<div>\n",
       "<style scoped>\n",
       "    .dataframe tbody tr th:only-of-type {\n",
       "        vertical-align: middle;\n",
       "    }\n",
       "\n",
       "    .dataframe tbody tr th {\n",
       "        vertical-align: top;\n",
       "    }\n",
       "\n",
       "    .dataframe thead th {\n",
       "        text-align: right;\n",
       "    }\n",
       "</style>\n",
       "<table border=\"1\" class=\"dataframe\">\n",
       "  <thead>\n",
       "    <tr style=\"text-align: right;\">\n",
       "      <th></th>\n",
       "      <th>index</th>\n",
       "      <th>Suburb</th>\n",
       "      <th>Address</th>\n",
       "      <th>Rooms</th>\n",
       "      <th>Type</th>\n",
       "      <th>Price</th>\n",
       "      <th>Method</th>\n",
       "      <th>SellerG</th>\n",
       "      <th>Date</th>\n",
       "      <th>Postcode</th>\n",
       "      <th>Regionname</th>\n",
       "      <th>Propertycount</th>\n",
       "      <th>Distance</th>\n",
       "      <th>CouncilArea</th>\n",
       "    </tr>\n",
       "  </thead>\n",
       "  <tbody>\n",
       "    <tr>\n",
       "      <th>63018</th>\n",
       "      <td>63018</td>\n",
       "      <td>Roxburgh Park</td>\n",
       "      <td>3 Carr Pl</td>\n",
       "      <td>3</td>\n",
       "      <td>h</td>\n",
       "      <td>566000.0</td>\n",
       "      <td>S</td>\n",
       "      <td>Raine</td>\n",
       "      <td>31/03/2018</td>\n",
       "      <td>3064</td>\n",
       "      <td>Northern Metropolitan</td>\n",
       "      <td>5833</td>\n",
       "      <td>20.6</td>\n",
       "      <td>Hume City Council</td>\n",
       "    </tr>\n",
       "    <tr>\n",
       "      <th>63019</th>\n",
       "      <td>63019</td>\n",
       "      <td>Roxburgh Park</td>\n",
       "      <td>9 Parker Ct</td>\n",
       "      <td>3</td>\n",
       "      <td>h</td>\n",
       "      <td>500000.0</td>\n",
       "      <td>S</td>\n",
       "      <td>Raine</td>\n",
       "      <td>31/03/2018</td>\n",
       "      <td>3064</td>\n",
       "      <td>Northern Metropolitan</td>\n",
       "      <td>5833</td>\n",
       "      <td>20.6</td>\n",
       "      <td>Hume City Council</td>\n",
       "    </tr>\n",
       "    <tr>\n",
       "      <th>63020</th>\n",
       "      <td>63020</td>\n",
       "      <td>Roxburgh Park</td>\n",
       "      <td>5 Parkinson Wy</td>\n",
       "      <td>3</td>\n",
       "      <td>h</td>\n",
       "      <td>545000.0</td>\n",
       "      <td>S</td>\n",
       "      <td>Raine</td>\n",
       "      <td>31/03/2018</td>\n",
       "      <td>3064</td>\n",
       "      <td>Northern Metropolitan</td>\n",
       "      <td>5833</td>\n",
       "      <td>20.6</td>\n",
       "      <td>Hume City Council</td>\n",
       "    </tr>\n",
       "    <tr>\n",
       "      <th>63021</th>\n",
       "      <td>63021</td>\n",
       "      <td>Thomastown</td>\n",
       "      <td>3/1 Travers St</td>\n",
       "      <td>3</td>\n",
       "      <td>u</td>\n",
       "      <td>NaN</td>\n",
       "      <td>PI</td>\n",
       "      <td>Barry</td>\n",
       "      <td>31/03/2018</td>\n",
       "      <td>3074</td>\n",
       "      <td>Northern Metropolitan</td>\n",
       "      <td>7955</td>\n",
       "      <td>15.3</td>\n",
       "      <td>Whittlesea City Council</td>\n",
       "    </tr>\n",
       "    <tr>\n",
       "      <th>63022</th>\n",
       "      <td>63022</td>\n",
       "      <td>Williams Landing</td>\n",
       "      <td>1 Diadem Wy</td>\n",
       "      <td>4</td>\n",
       "      <td>h</td>\n",
       "      <td>NaN</td>\n",
       "      <td>SP</td>\n",
       "      <td>Aussie</td>\n",
       "      <td>31/03/2018</td>\n",
       "      <td>3027</td>\n",
       "      <td>Western Metropolitan</td>\n",
       "      <td>1999</td>\n",
       "      <td>17.6</td>\n",
       "      <td>Wyndham City Council</td>\n",
       "    </tr>\n",
       "  </tbody>\n",
       "</table>\n",
       "</div>"
      ],
      "text/plain": [
       "       index            Suburb         Address  Rooms Type     Price Method  \\\n",
       "63018  63018     Roxburgh Park       3 Carr Pl      3    h  566000.0      S   \n",
       "63019  63019     Roxburgh Park     9 Parker Ct      3    h  500000.0      S   \n",
       "63020  63020     Roxburgh Park  5 Parkinson Wy      3    h  545000.0      S   \n",
       "63021  63021        Thomastown  3/1 Travers St      3    u       NaN     PI   \n",
       "63022  63022  Williams Landing     1 Diadem Wy      4    h       NaN     SP   \n",
       "\n",
       "      SellerG        Date  Postcode             Regionname  Propertycount  \\\n",
       "63018   Raine  31/03/2018      3064  Northern Metropolitan           5833   \n",
       "63019   Raine  31/03/2018      3064  Northern Metropolitan           5833   \n",
       "63020   Raine  31/03/2018      3064  Northern Metropolitan           5833   \n",
       "63021   Barry  31/03/2018      3074  Northern Metropolitan           7955   \n",
       "63022  Aussie  31/03/2018      3027   Western Metropolitan           1999   \n",
       "\n",
       "       Distance              CouncilArea  \n",
       "63018      20.6        Hume City Council  \n",
       "63019      20.6        Hume City Council  \n",
       "63020      20.6        Hume City Council  \n",
       "63021      15.3  Whittlesea City Council  \n",
       "63022      17.6     Wyndham City Council  "
      ]
     },
     "metadata": {},
     "output_type": "display_data"
    }
   ],
   "source": [
    "raw = pd.read_csv('data/Melbourne_housing_FULL.csv')\n",
    "raw_less = pd.read_csv('data/MELBOURNE_HOUSE_PRICES_LESS.csv')\n",
    "\n",
    "raw.dropna(inplace = True)\n",
    "raw.reset_index(inplace = True)\n",
    "\n",
    "raw_less.dropna()\n",
    "raw_less.reset_index(inplace = True)\n",
    "\n",
    "dsp(raw.tail())\n",
    "dsp(raw_less.tail())"
   ]
  },
  {
   "cell_type": "code",
   "execution_count": 25,
   "metadata": {},
   "outputs": [
    {
     "name": "stdout",
     "output_type": "stream",
     "text": [
      "Index(['index', 'Suburb', 'Address', 'Rooms', 'Type', 'Price', 'Method',\n",
      "       'SellerG', 'Date', 'Distance', 'Postcode', 'Bedroom2', 'Bathroom',\n",
      "       'Car', 'Landsize', 'BuildingArea', 'YearBuilt', 'CouncilArea',\n",
      "       'Lattitude', 'Longtitude', 'Regionname', 'Propertycount'],\n",
      "      dtype='object')\n",
      "Number of Regions: 8\n",
      "Number of Counsil Areas: 33\n",
      "Number of Post Codes: 194\n"
     ]
    }
   ],
   "source": [
    "#Lets see exactly what we have to work with\n",
    "print(raw.columns)\n",
    "\n",
    "print('Number of Regions: {}'.format(len(raw['Regionname'].unique())))\n",
    "print('Number of Counsil Areas: {}'.format(len(raw['CouncilArea'].unique())))\n",
    "print('Number of Post Codes: {}'.format(len(raw['Postcode'].unique())))"
   ]
  },
  {
   "cell_type": "markdown",
   "metadata": {},
   "source": [
    "__Building Our Features__\n",
    "\n",
    "What do we want? We have two types of features: those that are intrinsic to the house (bedrooms, bathrooms), and those intrinsic to the location (distance, region). We will turn the region names into binary features (either the house is a part of a given region or not). I suspect we will see a lot of intercorrelation between features."
   ]
  },
  {
   "cell_type": "code",
   "execution_count": 26,
   "metadata": {},
   "outputs": [
    {
     "name": "stderr",
     "output_type": "stream",
     "text": [
      "/usr/local/lib/python3.6/dist-packages/ipykernel_launcher.py:12: SettingWithCopyWarning: \n",
      "A value is trying to be set on a copy of a slice from a DataFrame.\n",
      "Try using .loc[row_indexer,col_indexer] = value instead\n",
      "\n",
      "See the caveats in the documentation: http://pandas.pydata.org/pandas-docs/stable/indexing.html#indexing-view-versus-copy\n",
      "  if sys.path[0] == '':\n",
      "/usr/local/lib/python3.6/dist-packages/ipykernel_launcher.py:13: SettingWithCopyWarning: \n",
      "A value is trying to be set on a copy of a slice from a DataFrame.\n",
      "Try using .loc[row_indexer,col_indexer] = value instead\n",
      "\n",
      "See the caveats in the documentation: http://pandas.pydata.org/pandas-docs/stable/indexing.html#indexing-view-versus-copy\n",
      "  del sys.path[0]\n"
     ]
    },
    {
     "name": "stdout",
     "output_type": "stream",
     "text": [
      "Index(['Rooms', 'Distance', 'Lattitude', 'Longtitude', 'Bedroom2', 'Bathroom',\n",
      "       'Car', 'BuildingArea', 'Northern Metropolitan', 'Western Metropolitan',\n",
      "       'Southern Metropolitan', 'Eastern Metropolitan',\n",
      "       'South-Eastern Metropolitan', 'Northern Victoria', 'Eastern Victoria',\n",
      "       'Western Victoria'],\n",
      "      dtype='object')\n"
     ]
    }
   ],
   "source": [
    "regions = raw.Regionname.unique()\n",
    "\n",
    "#Outcome, features\n",
    "data = raw[['Rooms', 'Distance', 'Lattitude','Longtitude', 'Bedroom2', 'Bathroom', 'Car', 'BuildingArea', 'Price']]\n",
    "\n",
    "Y = data['Price']\n",
    "X = data[['Rooms', 'Distance', 'Lattitude','Longtitude', 'Bedroom2', 'Bathroom', 'Car', 'BuildingArea']]\n",
    "\n",
    "\n",
    "#Binary Features\n",
    "for region in regions:\n",
    "    data[str(region)] = np.where(raw['Regionname'] == region, 1, 0)\n",
    "    X[str(region)] = np.where(raw['Regionname'] == region, 1, 0)\n",
    "    \n",
    "print(X.columns)"
   ]
  },
  {
   "cell_type": "code",
   "execution_count": 27,
   "metadata": {},
   "outputs": [
    {
     "data": {
      "image/png": "[encoded data removed]",
      "text/plain": [
       "<Figure size 432x288 with 2 Axes>"
      ]
     },
     "metadata": {
      "needs_background": "light"
     },
     "output_type": "display_data"
    }
   ],
   "source": [
    "#Feature Validation\n",
    "sns.heatmap(data.corr())\n",
    "\n",
    "#Distance, Lattitude and Longitude do nothing but correlate to everything but price\n",
    "data.drop(columns = ['Distance', 'Lattitude','Longtitude'], inplace = True)"
   ]
  },
  {
   "cell_type": "markdown",
   "metadata": {},
   "source": [
    "__Feature Validation__\n",
    "\n",
    "As we can see, there is an especially strong correlation between the intrinsic properties of the house (the number of bedrooms, bathrooms ect.). This is prime territory for principal component analysis."
   ]
  },
  {
   "cell_type": "code",
   "execution_count": 28,
   "metadata": {},
   "outputs": [
    {
     "name": "stdout",
     "output_type": "stream",
     "text": [
      "Percent variation explained by each component:\n",
      "[64.7 15.4 10.3]\n"
     ]
    },
    {
     "name": "stderr",
     "output_type": "stream",
     "text": [
      "/usr/local/lib/python3.6/dist-packages/ipykernel_launcher.py:5: DataConversionWarning: Data with input dtype int64, float64 were all converted to float64 by the scale function.\n",
      "  \"\"\"\n"
     ]
    }
   ],
   "source": [
    "#Principal Component Analysis\n",
    "pca = PCA(n_components = 3)\n",
    "\n",
    "#Colinear features\n",
    "colin_feat_scaled = preprocessing.scale(X[['BuildingArea', 'Rooms', 'Bedroom2', 'Bathroom','Car']])\n",
    "\n",
    "#Fit PCA function\n",
    "pca.fit(colin_feat_scaled)\n",
    "\n",
    "print('Percent variation explained by each component:\\n{}'.format(\n",
    "    np.round(pca.explained_variance_ratio_ * 100, decimals = 1)))"
   ]
  },
  {
   "cell_type": "markdown",
   "metadata": {},
   "source": [
    "__PCA__\n",
    "\n",
    "As we can see, the vast majority of the variance can be explained with only the first feature intrinsic to the property.\n",
    "\n",
    "Now we need to perform dimensionality reduction to create composite features."
   ]
  },
  {
   "cell_type": "code",
   "execution_count": 29,
   "metadata": {},
   "outputs": [
    {
     "name": "stdout",
     "output_type": "stream",
     "text": [
      "(8887, 5)\n",
      "(8887, 3)\n",
      "(8887, 14)\n",
      "(8887,)\n"
     ]
    },
    {
     "name": "stderr",
     "output_type": "stream",
     "text": [
      "/usr/local/lib/python3.6/dist-packages/ipykernel_launcher.py:13: SettingWithCopyWarning: \n",
      "A value is trying to be set on a copy of a slice from a DataFrame.\n",
      "Try using .loc[row_indexer,col_indexer] = value instead\n",
      "\n",
      "See the caveats in the documentation: http://pandas.pydata.org/pandas-docs/stable/indexing.html#indexing-view-versus-copy\n",
      "  del sys.path[0]\n",
      "/home/alexander/.local/lib/python3.6/site-packages/pandas/core/frame.py:3940: SettingWithCopyWarning: \n",
      "A value is trying to be set on a copy of a slice from a DataFrame\n",
      "\n",
      "See the caveats in the documentation: http://pandas.pydata.org/pandas-docs/stable/indexing.html#indexing-view-versus-copy\n",
      "  errors=errors)\n"
     ]
    }
   ],
   "source": [
    "#Reduce features\n",
    "feat_reduced = pca.fit_transform(colin_feat_scaled)\n",
    "\n",
    "#Check Dimensions\n",
    "print(colin_feat_scaled.shape)\n",
    "print(feat_reduced.shape)\n",
    "print(data.shape)\n",
    "print(feat_reduced.T[0].shape)\n",
    "\n",
    "#Add features to data\n",
    "#for i in range(feat_reduced.shape[1]):\n",
    "#    data['houseProperty{}'.format(i)] = feat_reduced.T[i]\n",
    "data['houseAmenityRating'] = feat_reduced.T[0]\n",
    "\n",
    "#Create features and outcomes\n",
    "data.drop(columns = ['BuildingArea', 'Rooms', 'Bedroom2', 'Bathroom','Car'], inplace = True)\n",
    "X = data.drop(columns = ['Price'])\n",
    "Y = data['Price']"
   ]
  },
  {
   "cell_type": "code",
   "execution_count": 30,
   "metadata": {},
   "outputs": [
    {
     "data": {
      "text/plain": [
       "<matplotlib.axes._subplots.AxesSubplot at 0x7f8dc6581978>"
      ]
     },
     "execution_count": 30,
     "metadata": {},
     "output_type": "execute_result"
    },
    {
     "data": {
      "image/png": "[encoded data removed]",
      "text/plain": [
       "<Figure size 432x288 with 2 Axes>"
      ]
     },
     "metadata": {
      "needs_background": "light"
     },
     "output_type": "display_data"
    }
   ],
   "source": [
    "sns.heatmap(data.corr())"
   ]
  },
  {
   "cell_type": "code",
   "execution_count": 31,
   "metadata": {},
   "outputs": [
    {
     "data": {
      "text/plain": [
       "array([0.50333539, 0.45320193, 0.41398683, 0.3739592 , 0.39593474])"
      ]
     },
     "execution_count": 31,
     "metadata": {},
     "output_type": "execute_result"
    }
   ],
   "source": [
    "mvr = linear_model.LinearRegression()\n",
    "cross_val_score(mvr, X, Y, cv = 5)"
   ]
  },
  {
   "cell_type": "markdown",
   "metadata": {},
   "source": [
    "__Multivariate Regression__\n",
    "\n",
    "Well, that didn't work at all! Lets look at a different approach."
   ]
  }
 ],
 "metadata": {
  "kernelspec": {
   "display_name": "Python 3",
   "language": "python",
   "name": "python3"
  },
  "language_info": {
   "codemirror_mode": {
    "name": "ipython",
    "version": 3
   },
   "file_extension": ".py",
   "mimetype": "text/x-python",
   "name": "python",
   "nbconvert_exporter": "python",
   "pygments_lexer": "ipython3",
   "version": "3.6.7"
  }
 },
 "nbformat": 4,
 "nbformat_minor": 2
}
